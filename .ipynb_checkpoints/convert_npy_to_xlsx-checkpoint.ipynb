{
 "cells": [
  {
   "cell_type": "code",
   "execution_count": 9,
   "metadata": {},
   "outputs": [],
   "source": [
    "import pandas as pd\n",
    "import numpy "
   ]
  },
  {
   "cell_type": "code",
   "execution_count": 10,
   "metadata": {},
   "outputs": [],
   "source": [
    "wih = numpy.load('save_wih.npy')\n",
    "who = numpy.load('save_who.npy')"
   ]
  },
  {
   "cell_type": "code",
   "execution_count": 11,
   "metadata": {},
   "outputs": [],
   "source": [
    "wihexcel = pd.DataFrame(wih)\n",
    "\n",
    "filepatch1 = 'wih.xlsx'\n",
    "\n",
    "wihexcel.to_excel(filepatch1, index=False)\n",
    "\n",
    "whoexcel = pd.DataFrame(who)\n",
    "\n",
    "filepatch2 = 'who.xlsx'\n",
    "\n",
    "whoexcel.to_excel(filepatch2, index=False)"
   ]
  }
 ],
 "metadata": {
  "kernelspec": {
   "display_name": "Python 3",
   "language": "python",
   "name": "python3"
  },
  "language_info": {
   "codemirror_mode": {
    "name": "ipython",
    "version": 3
   },
   "file_extension": ".py",
   "mimetype": "text/x-python",
   "name": "python",
   "nbconvert_exporter": "python",
   "pygments_lexer": "ipython3",
   "version": "3.7.4"
  }
 },
 "nbformat": 4,
 "nbformat_minor": 2
}
